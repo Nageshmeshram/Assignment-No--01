{
 "cells": [
  {
   "cell_type": "markdown",
   "id": "a0c34128",
   "metadata": {},
   "source": [
    "1. In the below elements which of them are values or an expression? eg:- values can be\n",
    "integer or string and expressions will be mathematical operators.\n",
    "\n",
    "*                  this is the mathematical operator used for Multiplication\n",
    "&#39;hello&#39;    this is string having special charectors\n",
    "-87.8              this is an integer value\n",
    "-                  this is a mathematical operator used for subtraction\n",
    "/                  this is a mathematical operator used for division\n",
    "+                  this is a mathematical operator used for Addition\n",
    "6                  this is an integer value"
   ]
  },
  {
   "cell_type": "markdown",
   "id": "016f77f1",
   "metadata": {},
   "source": [
    "2. What is the difference between string and variable?\n",
    "Answer-  string is a datatype where as variable it is an entity which can hold the datatypes like an example \n",
    "         s = \"nagesh\"\n",
    "         in above expression s is a variable with holding/ assigned as string \n",
    "         "
   ]
  },
  {
   "cell_type": "code",
   "execution_count": null,
   "id": "f1f5884a",
   "metadata": {},
   "outputs": [],
   "source": [
    "3. Describe three different data types.\n",
    "Answer- 1) str   = holding string \n",
    "        2) list  = holding list in []\n",
    "        3) tuple = holding data in ()\n",
    "        4) dict  = holding data in {}\n",
    "        5) set   = holding data in {}\n",
    "        6) int   = it is holding an integer values \n",
    "        7) float = it is holding float values like fractions\n",
    "        8) bool  = it is holding boolian variables like True False \n",
    "        9) complex =  it is holding conplex numbers \n",
    "    "
   ]
  },
  {
   "cell_type": "code",
   "execution_count": null,
   "id": "aa91ae60",
   "metadata": {},
   "outputs": [],
   "source": [
    "4. What is an expression made up of? What do all expressions do?\n",
    "Answer- Expression is made up of combination of variables and mathematical operators, expression assigning the value \n",
    "        to the variables like an example\n",
    "        i=10\n",
    "        here in this case i is varible with is assign as value 10\n",
    "        "
   ]
  },
  {
   "cell_type": "code",
   "execution_count": null,
   "id": "2497a913",
   "metadata": {},
   "outputs": [],
   "source": [
    "5. This assignment statements, like spam = 10. What is the difference between an\n",
    "expression and a statement?\n",
    "Answer- statements representing commands or actions like print(\"statements\") where as expression is the combination of\n",
    "        mathematical operators and variables to assign the values or to perform any operrations "
   ]
  },
  {
   "cell_type": "code",
   "execution_count": null,
   "id": "ff7a06db",
   "metadata": {},
   "outputs": [],
   "source": [
    "6. After running the following code, what does the variable bacon contain?\n",
    "bacon = 22\n",
    "bacon + 1\n",
    "Answer- bacon contain 22"
   ]
  },
  {
   "cell_type": "code",
   "execution_count": null,
   "id": "50d1a46c",
   "metadata": {},
   "outputs": [],
   "source": [
    "7. What should the values of the following two terms be?\n",
    "'smap'+'smapsmap'\n",
    "\n",
    "Answer- 'smapsmapsmap'\n",
    "\n",
    "'smap'*3\n",
    "\n",
    "Answer- 'smapsmapsmap'"
   ]
  },
  {
   "cell_type": "code",
   "execution_count": null,
   "id": "22e608d1",
   "metadata": {},
   "outputs": [],
   "source": [
    "8. Why is eggs a valid variable name while 100 is invalid?\n",
    "Answer- variable should not be start from numerical value thats why eggs is a valid variable while 100 is invalid"
   ]
  },
  {
   "cell_type": "code",
   "execution_count": null,
   "id": "fe3181c9",
   "metadata": {},
   "outputs": [],
   "source": [
    "9. What three functions can be used to get the integer, floating-point number, or string\n",
    "version of a value?\n",
    "Answer-int() \n",
    "       float()\n",
    "       str()"
   ]
  },
  {
   "cell_type": "code",
   "execution_count": null,
   "id": "6ae6722a",
   "metadata": {},
   "outputs": [],
   "source": [
    "10. Why does this expression cause an error? How can you fix it?\n",
    "'I have eaten' + 99 + 'burritos.'\n",
    "Answer- it may only content string values, it may written as \"I have eaten' + 99 + 'burritos.\""
   ]
  }
 ],
 "metadata": {
  "kernelspec": {
   "display_name": "Python 3 (ipykernel)",
   "language": "python",
   "name": "python3"
  },
  "language_info": {
   "codemirror_mode": {
    "name": "ipython",
    "version": 3
   },
   "file_extension": ".py",
   "mimetype": "text/x-python",
   "name": "python",
   "nbconvert_exporter": "python",
   "pygments_lexer": "ipython3",
   "version": "3.9.12"
  }
 },
 "nbformat": 4,
 "nbformat_minor": 5
}
